{
 "cells": [
  {
   "cell_type": "code",
   "execution_count": 1,
   "id": "d04b7bb0",
   "metadata": {},
   "outputs": [],
   "source": [
    "from scipy import stats\n",
    "import pandas as pd\n",
    "import numpy as np\n",
    "import matplotlib.pyplot as plt\n",
    "import seaborn as sns\n",
    "from sklearn.model_selection import train_test_split\n",
    "import warnings"
   ]
  },
  {
   "cell_type": "code",
   "execution_count": 10,
   "id": "8145ac2f",
   "metadata": {},
   "outputs": [],
   "source": [
    "def createDataframe(student_data: List[List[int]]) -> pd.DataFrame:\n",
    "    return pd.DataFrame(student_data,columns=('student_id','age'))\n"
   ]
  },
  {
   "cell_type": "code",
   "execution_count": 15,
   "id": "98b7b928",
   "metadata": {
    "scrolled": true
   },
   "outputs": [
    {
     "ename": "SyntaxError",
     "evalue": "invalid syntax (3225125957.py, line 1)",
     "output_type": "error",
     "traceback": [
      "\u001b[0;36m  Input \u001b[0;32mIn [15]\u001b[0;36m\u001b[0m\n\u001b[0;31m    pd.shape()?\u001b[0m\n\u001b[0m              ^\u001b[0m\n\u001b[0;31mSyntaxError\u001b[0m\u001b[0;31m:\u001b[0m invalid syntax\n"
     ]
    }
   ],
   "source": [
    "\n",
    "def getDataframeSize(players: pd.DataFrame) -> List[int]:\n",
    "    a = len(players)\n",
    "    b = len(players.loc[1])\n",
    "    return [a,b]\n"
   ]
  },
  {
   "cell_type": "code",
   "execution_count": 16,
   "id": "4b1967ef",
   "metadata": {},
   "outputs": [],
   "source": [
    "def selectData(students: pd.DataFrame) -> pd.DataFrame:\n",
    "   return students.loc[students.student_id==101,['name','age']]\n",
    "#708ms\n",
    "def selectData(students: pd.DataFrame) -> pd.DataFrame:\n",
    "    df = students[students.student_id==101]\n",
    "    return df[['name','age']]\n",
    "#607ms\n",
    "def selectData(students: pd.DataFrame) -> pd.DataFrame:\n",
    "    return students[students.student_id==101][['name','age']]\n",
    "#527ms\n"
   ]
  },
  {
   "cell_type": "code",
   "execution_count": 17,
   "id": "2df52ae6",
   "metadata": {},
   "outputs": [],
   "source": [
    "def createBonusColumn(employees: pd.DataFrame) -> pd.DataFrame:\n",
    "    employees['bonus']=2*employees['salary']\n",
    "    return employees\n",
    "#505ms"
   ]
  },
  {
   "cell_type": "code",
   "execution_count": null,
   "id": "8bb46768",
   "metadata": {},
   "outputs": [],
   "source": [
    "\n",
    "def dropDuplicateEmails(customers: pd.DataFrame) -> pd.DataFrame:\n",
    "    customers['occurrences'] = customers.groupby('email').cumcount() + 1\n",
    "    return customers[customers.occurrences==1][['customer_id','name','email']]\n",
    "#656ms\n",
    "def dropDuplicateEmails(customers: pd.DataFrame) -> pd.DataFrame:\n",
    "    return customers.drop_duplicates(subset=['email'], keep='first')\n",
    "#507ms"
   ]
  }
 ],
 "metadata": {
  "kernelspec": {
   "display_name": "Python 3 (ipykernel)",
   "language": "python",
   "name": "python3"
  },
  "language_info": {
   "codemirror_mode": {
    "name": "ipython",
    "version": 3
   },
   "file_extension": ".py",
   "mimetype": "text/x-python",
   "name": "python",
   "nbconvert_exporter": "python",
   "pygments_lexer": "ipython3",
   "version": "3.9.12"
  }
 },
 "nbformat": 4,
 "nbformat_minor": 5
}
