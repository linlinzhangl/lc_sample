{
 "cells": [
  {
   "cell_type": "code",
   "execution_count": 1,
   "id": "d542e0be",
   "metadata": {},
   "outputs": [],
   "source": [
    "from scipy import stats\n",
    "import pandas as pd\n",
    "import numpy as np\n",
    "import matplotlib.pyplot as plt\n",
    "import seaborn as sns\n",
    "from sklearn.model_selection import train_test_split\n",
    "import warnings"
   ]
  },
  {
   "cell_type": "code",
   "execution_count": 10,
   "id": "b6ec5b43",
   "metadata": {},
   "outputs": [],
   "source": [
    "def createDataframe(student_data: List[List[int]]) -> pd.DataFrame:\n",
    "    return pd.DataFrame(student_data,columns=('student_id','age'))\n"
   ]
  },
  {
   "cell_type": "code",
   "execution_count": 15,
   "id": "dc417fe5",
   "metadata": {
    "scrolled": true
   },
   "outputs": [
    {
     "ename": "SyntaxError",
     "evalue": "invalid syntax (3225125957.py, line 1)",
     "output_type": "error",
     "traceback": [
      "\u001b[0;36m  Input \u001b[0;32mIn [15]\u001b[0;36m\u001b[0m\n\u001b[0;31m    pd.shape()?\u001b[0m\n\u001b[0m              ^\u001b[0m\n\u001b[0;31mSyntaxError\u001b[0m\u001b[0;31m:\u001b[0m invalid syntax\n"
     ]
    }
   ],
   "source": [
    "\n",
    "def getDataframeSize(players: pd.DataFrame) -> List[int]:\n",
    "    a = len(players)\n",
    "    b = len(players.loc[1])\n",
    "    return [a,b]\n"
   ]
  },
  {
   "cell_type": "code",
   "execution_count": 16,
   "id": "90c258f0",
   "metadata": {},
   "outputs": [],
   "source": [
    "def selectData(students: pd.DataFrame) -> pd.DataFrame:\n",
    "   return students.loc[students.student_id==101,['name','age']]\n",
    "#708ms\n",
    "def selectData(students: pd.DataFrame) -> pd.DataFrame:\n",
    "    df = students[students.student_id==101]\n",
    "    return df[['name','age']]\n",
    "#607ms\n",
    "def selectData(students: pd.DataFrame) -> pd.DataFrame:\n",
    "    return students[students.student_id==101][['name','age']]\n",
    "#527ms\n"
   ]
  },
  {
   "cell_type": "code",
   "execution_count": 17,
   "id": "de6b2adf",
   "metadata": {},
   "outputs": [],
   "source": [
    "def createBonusColumn(employees: pd.DataFrame) -> pd.DataFrame:\n",
    "    employees['bonus']=2*employees['salary']\n",
    "    return employees\n",
    "#505ms"
   ]
  },
  {
   "cell_type": "code",
   "execution_count": 18,
   "id": "1d1404c1",
   "metadata": {},
   "outputs": [],
   "source": [
    "\n",
    "def dropDuplicateEmails(customers: pd.DataFrame) -> pd.DataFrame:\n",
    "    customers['occurrences'] = customers.groupby('email').cumcount() + 1\n",
    "    return customers[customers.occurrences==1][['customer_id','name','email']]\n",
    "#656ms\n",
    "def dropDuplicateEmails(customers: pd.DataFrame) -> pd.DataFrame:\n",
    "    return customers.drop_duplicates(subset=['email'], keep='first')\n",
    "#507ms"
   ]
  },
  {
   "cell_type": "code",
   "execution_count": 19,
   "id": "5266f7fa",
   "metadata": {},
   "outputs": [],
   "source": [
    "\n",
    "def dropMissingData(students: pd.DataFrame) -> pd.DataFrame:\n",
    "    return students[students['name'].notnull()]\n",
    "#543ms\n",
    "\n",
    "def modifySalaryColumn(employees: pd.DataFrame) -> pd.DataFrame:\n",
    "    employees['salary']*=2\n",
    "    return employees"
   ]
  },
  {
   "cell_type": "code",
   "execution_count": 20,
   "id": "2a609f3c",
   "metadata": {},
   "outputs": [],
   "source": [
    "def renameColumns(students: pd.DataFrame) -> pd.DataFrame:\n",
    "    students=students.rename(columns={'id':'student_id','first':'first_name','last':'last_name','age':'age_in_years'})\n",
    "    return students\n",
    "#553ms"
   ]
  },
  {
   "cell_type": "code",
   "execution_count": 24,
   "id": "932d36d0",
   "metadata": {},
   "outputs": [
    {
     "ename": "SyntaxError",
     "evalue": "invalid syntax (2806183377.py, line 1)",
     "output_type": "error",
     "traceback": [
      "\u001b[0;36m  Input \u001b[0;32mIn [24]\u001b[0;36m\u001b[0m\n\u001b[0;31m    students.astype()?\u001b[0m\n\u001b[0m                     ^\u001b[0m\n\u001b[0;31mSyntaxError\u001b[0m\u001b[0;31m:\u001b[0m invalid syntax\n"
     ]
    }
   ],
   "source": [
    "def changeDatatype(students: pd.DataFrame) -> pd.DataFrame:\n",
    "    students[\"grade\"]=students[\"grade\"].astype(int)\n",
    "    return students\n",
    "#491ms"
   ]
  },
  {
   "cell_type": "code",
   "execution_count": 25,
   "id": "24922943",
   "metadata": {},
   "outputs": [],
   "source": [
    "def fillMissingValues(products: pd.DataFrame) -> pd.DataFrame:\n",
    "     products[\"quantity\"]=products[\"quantity\"].fillna(0)\n",
    "     return products\n",
    "#682ms\n"
   ]
  },
  {
   "cell_type": "code",
   "execution_count": 26,
   "id": "ce467ff6",
   "metadata": {},
   "outputs": [],
   "source": [
    "def pivotTable(weather: pd.DataFrame) -> pd.DataFrame:\n",
    "    return weather.pivot_table(index='month', columns='city', values='temperature', aggfunc='sum')\n",
    "#629ms\n"
   ]
  },
  {
   "cell_type": "code",
   "execution_count": 27,
   "id": "d3ffa03e",
   "metadata": {},
   "outputs": [
    {
     "data": {
      "text/html": [
       "<div>\n",
       "<style scoped>\n",
       "    .dataframe tbody tr th:only-of-type {\n",
       "        vertical-align: middle;\n",
       "    }\n",
       "\n",
       "    .dataframe tbody tr th {\n",
       "        vertical-align: top;\n",
       "    }\n",
       "\n",
       "    .dataframe thead th {\n",
       "        text-align: right;\n",
       "    }\n",
       "</style>\n",
       "<table border=\"1\" class=\"dataframe\">\n",
       "  <thead>\n",
       "    <tr style=\"text-align: right;\">\n",
       "      <th></th>\n",
       "      <th>Date</th>\n",
       "      <th>Category</th>\n",
       "      <th>Value</th>\n",
       "    </tr>\n",
       "  </thead>\n",
       "  <tbody>\n",
       "    <tr>\n",
       "      <th>0</th>\n",
       "      <td>2022-01-01</td>\n",
       "      <td>A</td>\n",
       "      <td>10</td>\n",
       "    </tr>\n",
       "    <tr>\n",
       "      <th>1</th>\n",
       "      <td>2022-01-01</td>\n",
       "      <td>B</td>\n",
       "      <td>20</td>\n",
       "    </tr>\n",
       "    <tr>\n",
       "      <th>2</th>\n",
       "      <td>2022-01-02</td>\n",
       "      <td>A</td>\n",
       "      <td>30</td>\n",
       "    </tr>\n",
       "    <tr>\n",
       "      <th>3</th>\n",
       "      <td>2022-01-02</td>\n",
       "      <td>B</td>\n",
       "      <td>40</td>\n",
       "    </tr>\n",
       "  </tbody>\n",
       "</table>\n",
       "</div>"
      ],
      "text/plain": [
       "         Date Category  Value\n",
       "0  2022-01-01        A     10\n",
       "1  2022-01-01        B     20\n",
       "2  2022-01-02        A     30\n",
       "3  2022-01-02        B     40"
      ]
     },
     "execution_count": 27,
     "metadata": {},
     "output_type": "execute_result"
    }
   ],
   "source": [
    "data = {'Date': ['2022-01-01', '2022-01-01', '2022-01-02', '2022-01-02'],\n",
    "        'Category': ['A', 'B', 'A', 'B'],\n",
    "        'Value': [10, 20, 30, 40]}\n",
    "df = pd.DataFrame(data)\n",
    "df"
   ]
  },
  {
   "cell_type": "code",
   "execution_count": 28,
   "id": "6144b677",
   "metadata": {},
   "outputs": [],
   "source": [
    "def meltTable(report: pd.DataFrame) -> pd.DataFrame:\n",
    "    return pd.melt(report, id_vars=['product'], var_name='quarter', value_name='sales')\n",
    "#599ms"
   ]
  },
  {
   "cell_type": "code",
   "execution_count": 29,
   "id": "da4ef0f8",
   "metadata": {},
   "outputs": [],
   "source": [
    "def findHeavyAnimals(animals: pd.DataFrame) -> pd.DataFrame:\n",
    "    return animals[animals.weight>100].sort_values(by='weight',ascending=False)[['name']]\n",
    "#606ms"
   ]
  },
  {
   "cell_type": "code",
   "execution_count": 30,
   "id": "0abb84dc",
   "metadata": {},
   "outputs": [
    {
     "ename": "SyntaxError",
     "evalue": "invalid syntax (1381232198.py, line 5)",
     "output_type": "error",
     "traceback": [
      "\u001b[0;36m  Input \u001b[0;32mIn [30]\u001b[0;36m\u001b[0m\n\u001b[0;31m    select product_id from Products\u001b[0m\n\u001b[0m           ^\u001b[0m\n\u001b[0;31mSyntaxError\u001b[0m\u001b[0;31m:\u001b[0m invalid syntax\n"
     ]
    }
   ],
   "source": [
    "#sql and python crosscheck\n",
    "def find_products(products: pd.DataFrame) -> pd.DataFrame:\n",
    "    return products[(products.low_fats=='Y') & (products.recyclable=='Y')][['product_id']]\n",
    "# Write your MySQL query statement below\n",
    "select product_id from Products\n",
    "where  low_fats='Y' and recyclable='Y'"
   ]
  },
  {
   "cell_type": "code",
   "execution_count": 31,
   "id": "ca3919d6",
   "metadata": {},
   "outputs": [],
   "source": [
    "def find_customer_referee(customer: pd.DataFrame) -> pd.DataFrame:\n",
    "    return customer[((customer.referee_id!=2) | (customer.referee_id.isna()))][['name']]\n",
    "#790ms\n",
    "def find_customer_referee(customer: pd.DataFrame) -> pd.DataFrame:\n",
    "    return customer[(customer['referee_id']!=2) | (customer['referee_id'].isnull())][['name']]\n",
    "#591ms"
   ]
  },
  {
   "cell_type": "code",
   "execution_count": 32,
   "id": "9fba6d34",
   "metadata": {},
   "outputs": [],
   "source": [
    "def article_views(views: pd.DataFrame) -> pd.DataFrame:\n",
    "    df = views[(views.author_id==views.viewer_id)][['author_id']].rename(columns={'author_id': 'id'}).sort_values(by='id')\n",
    "    return df.drop_duplicates()\n",
    "\n",
    "#Runtime: 560 ms, faster than 69.95% of Pandas online submissions for Article Views I.\n"
   ]
  },
  {
   "cell_type": "code",
   "execution_count": 33,
   "id": "b582fbf4",
   "metadata": {},
   "outputs": [],
   "source": [
    "def replace_employee_id(employees: pd.DataFrame, employee_uni: pd.DataFrame) -> pd.DataFrame:\n",
    "    return pd.merge(employees, employee_uni,on='id',how='left')[['unique_id','name']]\n",
    "#781ms\n",
    "def replace_employee_id(employees: pd.DataFrame, employee_uni: pd.DataFrame) -> pd.DataFrame:\n",
    "    return pd.merge(employees, employee_uni,how=\"left\")[[\"unique_id\",\"name\"]]\n",
    "#596ms"
   ]
  },
  {
   "cell_type": "code",
   "execution_count": 34,
   "id": "a36590ef",
   "metadata": {},
   "outputs": [],
   "source": [
    "def sales_analysis(sales: pd.DataFrame, product: pd.DataFrame) -> pd.DataFrame:\n",
    "    return pd.merge(sales,product,how=\"left\")[[\"product_name\",\"year\",\"price\"]]\n",
    "#680 ms, faster than 53.42% "
   ]
  },
  {
   "cell_type": "code",
   "execution_count": 35,
   "id": "513bb51d",
   "metadata": {},
   "outputs": [
    {
     "ename": "IndentationError",
     "evalue": "unexpected indent (3735013282.py, line 8)",
     "output_type": "error",
     "traceback": [
      "\u001b[0;36m  Input \u001b[0;32mIn [35]\u001b[0;36m\u001b[0m\n\u001b[0;31m    return visits_no_transaction.groupby('customer_id')['visit_id'].size().reset_index().rename(columns = {'visit_id':'count_no_trans'})[['customer_id','count_no_trans']]\u001b[0m\n\u001b[0m    ^\u001b[0m\n\u001b[0;31mIndentationError\u001b[0m\u001b[0;31m:\u001b[0m unexpected indent\n"
     ]
    }
   ],
   "source": [
    "def find_customers(visits: pd.DataFrame, transactions: pd.DataFrame) -> pd.DataFrame:\n",
    "    df=pd.merge(visits,transactions,how=\"left\",indicator=True)\n",
    "    return df[(df._merge==\"left_only\")].groupby('customer_id').agg({'visit_id': 'count'}).reset_index().rename(columns={'visit_id': 'count_no_trans'})\n",
    "#813 ms, faster than 35.57%\n",
    "    # first find Visits that were not in transactions\n",
    "f\n",
    "    # then want to group on customer_id and count visits \n",
    "    return visits_no_transaction.groupby('customer_id')['visit_id'].size().reset_index().rename(columns = {'visit_id':'count_no_trans'})[['customer_id','count_no_trans']]\n",
    "\n"
   ]
  },
  {
   "cell_type": "code",
   "execution_count": 36,
   "id": "2d1f16f7",
   "metadata": {},
   "outputs": [],
   "source": [
    "def rising_temperature(weather: pd.DataFrame) -> pd.DataFrame:\n",
    "    weather[\"recordDate_1\"]=weather[\"recordDate\"] - pd.Timedelta(days=1)\n",
    "    df = pd.merge(weather,weather,left_on=\"recordDate_1\",right_on=\"recordDate\",how=\"left\")\n",
    "    return df[(df.temperature_x>df.temperature_y)][[\"id_x\"]].rename(columns={\"id_x\":\"id\"})\n",
    "#695 ms, faster than 30.72%\n",
    "def rising_temperature(weather: pd.DataFrame) -> pd.DataFrame:\n",
    "    weather.sort_values(by='recordDate', inplace=True)\n",
    "    print(weather.recordDate.diff())\n",
    "    return weather[(weather.temperature.diff() > 0) & (weather.recordDate.diff().dt.days == 1)][['id']]\n",
    "\n",
    "#Runtime: 504 ms, faster than 92.79% of Pandas online submissions for Rising Temperature."
   ]
  },
  {
   "cell_type": "code",
   "execution_count": 38,
   "id": "d3443899",
   "metadata": {},
   "outputs": [
    {
     "ename": "SyntaxError",
     "evalue": "invalid syntax (206789435.py, line 1)",
     "output_type": "error",
     "traceback": [
      "\u001b[0;36m  Input \u001b[0;32mIn [38]\u001b[0;36m\u001b[0m\n\u001b[0;31m    df= DataFrame{\"headers\":{\"Activity\":[\"machine_id\",\"process_id\",\"activity_type\",\"timestamp\"]},\"rows\":{\"Activity\":[[0,1,\"start\",18.891],[1,0,\"end\",81.874],[0,0,\"start\",37.019],[0,1,\"end\",38.098],[1,0,\"start\",25.135],[1,1,\"start\",23.355],[0,0,\"end\",40.222],[1,1,\"end\",90.302]]}}\u001b[0m\n\u001b[0m                 ^\u001b[0m\n\u001b[0;31mSyntaxError\u001b[0m\u001b[0;31m:\u001b[0m invalid syntax\n"
     ]
    }
   ],
   "source": [
    "def get_average_time(activity: pd.DataFrame) -> pd.DataFrame:\n",
    "    df1 = activity[(activity.activity_type=='start')]\n",
    "    df2 = activity[(activity.activity_type=='end')]\n",
    "    df = pd.merge(df1,df2,on=[\"machine_id\",\"process_id\"])\n",
    "    df['processing_time']=df[\"timestamp_y\"]-df[\"timestamp_x\"]\n",
    "    return df.groupby(\"machine_id\")['processing_time'].mean().round(3).reset_index()\n",
    "#621 ms, faster than 40.61% of Pandas online submissions for Average Time of Process per Machine.\n"
   ]
  },
  {
   "cell_type": "code",
   "execution_count": 39,
   "id": "d38a70ab",
   "metadata": {},
   "outputs": [],
   "source": [
    "\n",
    "def employee_bonus(employee: pd.DataFrame, bonus: pd.DataFrame) -> pd.DataFrame:\n",
    "    df = pd.merge(employee,bonus,how='left')\n",
    "    return df[(df.bonus<1000)|(df.bonus.isna())][[\"name\",\"bonus\"]]\n",
    "#Runtime: 650 ms, faster than 67.61"
   ]
  },
  {
   "cell_type": "code",
   "execution_count": 40,
   "id": "a80e6f14",
   "metadata": {},
   "outputs": [
    {
     "data": {
      "text/plain": [
       "B          3\n",
       "A          2\n",
       "Missing    1\n",
       "Name: Group1, dtype: int64"
      ]
     },
     "execution_count": 40,
     "metadata": {},
     "output_type": "execute_result"
    }
   ],
   "source": [
    "df = pd.DataFrame({'Group1': ['A', 'A', 'B', 'B', 'B', pd.NA]})\n",
    "\n",
    "# Count the occurrences of each unique value in 'Group1', including missing values\n",
    "counts = df['Group1'].fillna('Missing').value_counts()\n",
    "\n",
    "counts"
   ]
  },
  {
   "cell_type": "code",
   "execution_count": 41,
   "id": "f94a8ad9",
   "metadata": {},
   "outputs": [
    {
     "name": "stdout",
     "output_type": "stream",
     "text": [
      "    Group1  count\n",
      "0        B      3\n",
      "1        A      2\n",
      "2  Missing      1\n"
     ]
    }
   ],
   "source": [
    "def students_and_examinations(students: pd.DataFrame, subjects: pd.DataFrame, examinations: pd.DataFrame) -> pd.DataFrame:\n",
    "    students['key'] = 1\n",
    "    subjects['key'] = 1\n",
    "    student_subject=pd.merge(students,subjects,on='key').drop('key', axis=1)\n",
    "    examinations['attended_exams']=1\n",
    "    df = examinations.groupby(['student_id','subject_name']).agg({'attended_exams': 'sum'}).reset_index()\n",
    "    df['attended_exams'].astype(int)\n",
    "    df1=pd.merge(student_subject,df,how=\"outer\")\n",
    "    df1['attended_exams']=df1['attended_exams'].fillna(0)\n",
    "    return df1.sort_values(by=['student_id','subject_name'])[['student_id','student_name','subject_name','attended_exams']]\n",
    "    \n",
    "#809 ms, faster than 28.97%    \n"
   ]
  },
  {
   "cell_type": "code",
   "execution_count": 42,
   "id": "5ade4f3e",
   "metadata": {},
   "outputs": [],
   "source": [
    "def students_and_examinations(students: pd.DataFrame, subjects: pd.DataFrame, examinations: pd.DataFrame) -> pd.DataFrame:\n",
    "    students['key'] = 1\n",
    "    subjects['key'] = 1\n",
    "    student_subject=pd.merge(students,subjects,on='key').drop('key', axis=1)\n",
    "    examinations['attended_exams']=1\n",
    "    df = examinations.groupby(['student_id','subject_name']).agg({'attended_exams': 'sum'}).reset_index()\n",
    "    df['attended_exams'].astype(int)\n",
    "    df1=pd.merge(student_subject,df,how=\"outer\")\n",
    "    df1['attended_exams']=df1['attended_exams'].fillna(0)\n",
    "    return df1.sort_values(by=['student_id','subject_name'])[['student_id','student_name','subject_name','attended_exams']]\n",
    "    \n",
    "\n"
   ]
  },
  {
   "cell_type": "code",
   "execution_count": 43,
   "id": "9c53055c",
   "metadata": {},
   "outputs": [
    {
     "name": "stdout",
     "output_type": "stream",
     "text": [
      "   student_id     name subject_id subject_name\n",
      "0           1    Alice       Math  Mathematics\n",
      "1           1    Alice    Physics      Physics\n",
      "2           2      Bob       Math  Mathematics\n",
      "3           2      Bob    Physics      Physics\n",
      "4           3  Charlie       Math  Mathematics\n",
      "5           3  Charlie    Physics      Physics\n"
     ]
    }
   ],
   "source": [
    "students = pd.DataFrame({'student_id': [1, 2, 3],\n",
    "                         'name': ['Alice', 'Bob', 'Charlie']})\n",
    "\n",
    "# Create DataFrame for subjects\n",
    "subjects = pd.DataFrame({'subject_id': ['Math', 'Physics'],\n",
    "                         'subject_name': ['Mathematics', 'Physics']})\n",
    "\n",
    "df_students_subjects = students.merge(subjects, how='cross')\n",
    "print(df_students_subjects)"
   ]
  },
  {
   "cell_type": "code",
   "execution_count": 44,
   "id": "eb105cff",
   "metadata": {},
   "outputs": [],
   "source": [
    "\n",
    "def find_managers(employee: pd.DataFrame) -> pd.DataFrame:\n",
    "    df = employee.groupby(\"managerId\").agg({\"id\":\"count\"}).reset_index()\n",
    "    return employee.merge(df[df.id>=5][[\"managerId\"]],how=\"inner\",left_on=\"id\",right_on=\"managerId\")[[\"name\"]]\n",
    "    \n",
    "#528 ms, faster than 84.68%"
   ]
  },
  {
   "cell_type": "code",
   "execution_count": 45,
   "id": "6158de12",
   "metadata": {},
   "outputs": [],
   "source": [
    "\n",
    "def confirmation_rate(signups: pd.DataFrame, confirmations: pd.DataFrame) -> pd.DataFrame:\n",
    "    confirmations['confirmation_rate'] = numpy.where(confirmations['action'] == 'confirmed', 1, 0)\n",
    "    df = confirmations.groupby(\"user_id\").agg({\"confirmation_rate\":\"mean\"}).round(2).reset_index()\n",
    "    return signups.merge(df,how=\"left\")[[\"user_id\",\"confirmation_rate\"]].fillna(0)\n",
    "    \n",
    "#Runtime: 747 ms, faster than 45.75% "
   ]
  },
  {
   "cell_type": "code",
   "execution_count": 46,
   "id": "5fe93e32",
   "metadata": {},
   "outputs": [],
   "source": [
    "\n",
    "def not_boring_movies(cinema: pd.DataFrame) -> pd.DataFrame:\n",
    "     return cinema[cinema['id'] % 2 != 0][cinema['description']!='boring' ].sort_values(by='rating',ascending=False)\n",
    "#582 ms, faster than 37.31% of Pandas\n",
    "\n",
    "def not_boring_movies(cinema: pd.DataFrame) -> pd.DataFrame:\n",
    "     return cinema[(cinema['id'] % 2 != 0) & (cinema['description']!='boring' )].sort_values(by='rating',ascending=False)\n",
    "    #497 ms, faster than 80.31% "
   ]
  },
  {
   "cell_type": "code",
   "execution_count": 58,
   "id": "e096ab9f",
   "metadata": {},
   "outputs": [],
   "source": [
    "data = {\n",
    "    \"headers\": {\n",
    "        \"Prices\": [\"product_id\", \"start_date\", \"end_date\", \"price\"],\n",
    "        \"UnitsSold\": [\"product_id\", \"purchase_date\", \"units\"]\n",
    "    },\n",
    "    \"rows\": {\n",
    "        \"Prices\": [\n",
    "            [1, \"2019-02-17\", \"2019-02-28\", 5],\n",
    "            [1, \"2019-03-01\", \"2019-03-22\", 20],\n",
    "            [2, \"2019-02-01\", \"2019-02-20\", 15],\n",
    "            [2, \"2019-02-21\", \"2019-03-31\", 30],\n",
    "            [3, \"2019-02-21\", \"2019-03-31\", 30]\n",
    "        ],\n",
    "        \"UnitsSold\": [\n",
    "            [1, \"2019-02-25\", 100],\n",
    "            [1, \"2019-03-01\", 15],\n",
    "            [2, \"2019-02-10\", 200],\n",
    "            [2, \"2019-03-22\", 30]\n",
    "        ]\n",
    "    }\n",
    "}\n",
    "\n",
    "# Create DataFrame for Prices\n",
    "prices = pd.DataFrame(data[\"rows\"][\"Prices\"], columns=data[\"headers\"][\"Prices\"])\n",
    "\n",
    "# Create DataFrame for UnitsSold\n",
    "units_sold = pd.DataFrame(data[\"rows\"][\"UnitsSold\"], columns=data[\"headers\"][\"UnitsSold\"])\n"
   ]
  },
  {
   "cell_type": "code",
   "execution_count": 62,
   "id": "27ffccbf",
   "metadata": {},
   "outputs": [
    {
     "data": {
      "text/html": [
       "<div>\n",
       "<style scoped>\n",
       "    .dataframe tbody tr th:only-of-type {\n",
       "        vertical-align: middle;\n",
       "    }\n",
       "\n",
       "    .dataframe tbody tr th {\n",
       "        vertical-align: top;\n",
       "    }\n",
       "\n",
       "    .dataframe thead th {\n",
       "        text-align: right;\n",
       "    }\n",
       "</style>\n",
       "<table border=\"1\" class=\"dataframe\">\n",
       "  <thead>\n",
       "    <tr style=\"text-align: right;\">\n",
       "      <th></th>\n",
       "      <th>product_id</th>\n",
       "      <th>average_price</th>\n",
       "    </tr>\n",
       "  </thead>\n",
       "  <tbody>\n",
       "    <tr>\n",
       "      <th>0</th>\n",
       "      <td>1</td>\n",
       "      <td>6.96</td>\n",
       "    </tr>\n",
       "    <tr>\n",
       "      <th>1</th>\n",
       "      <td>2</td>\n",
       "      <td>16.96</td>\n",
       "    </tr>\n",
       "    <tr>\n",
       "      <th>2</th>\n",
       "      <td>3</td>\n",
       "      <td>0.00</td>\n",
       "    </tr>\n",
       "  </tbody>\n",
       "</table>\n",
       "</div>"
      ],
      "text/plain": [
       "   product_id  average_price\n",
       "0           1           6.96\n",
       "1           2          16.96\n",
       "2           3           0.00"
      ]
     },
     "execution_count": 62,
     "metadata": {},
     "output_type": "execute_result"
    }
   ],
   "source": [
    "def average_selling_price(prices: pd.DataFrame, units_sold: pd.DataFrame) -> pd.DataFrame:\n",
    "    df = pd.merge(prices,units_sold,how=\"outer\")\n",
    "    df = df[((df.purchase_date>=df.start_date)&(df.purchase_date<=df.end_date))|(df.purchase_date.isna())]\n",
    "    df['total'] = df['price']*df['units']\n",
    "    df1=df.groupby(\"product_id\").agg({\"total\":\"sum\",\"units\":\"sum\"}).reset_index()\n",
    "    df1[\"average_price\"]=(df1[\"total\"]/df1[\"units\"]).round(2)\n",
    "    df1[\"average_price\"].fillna(value=0, inplace=True)\n",
    "    df1[\"average_price\"]=df1[\"average_price\"].fillna(0)\n",
    "    return df1[[\"product_id\",\"average_price\"]]\n",
    "average_selling_price(prices,units_sold)"
   ]
  },
  {
   "cell_type": "code",
   "execution_count": 63,
   "id": "8e118c97",
   "metadata": {},
   "outputs": [],
   "source": [
    "\n",
    "def average_selling_price(prices: pd.DataFrame, units_sold: pd.DataFrame) -> pd.DataFrame:\n",
    "    df = pd.merge(prices,units_sold,how=\"outer\")\n",
    "    df = df[((df.purchase_date>=df.start_date)&(df.purchase_date<=df.end_date))|(df.purchase_date.isna())]\n",
    "    df['total'] = df['price']*df['units']\n",
    "    df1=df.groupby(\"product_id\").agg({\"total\":\"sum\",\"units\":\"sum\"}).reset_index()\n",
    "    df1[\"average_price\"]=(df1[\"total\"]/df1[\"units\"]).round(2)\n",
    "    df1['average_price'] = numpy.where(df1['average_price'].isna(), 0,df1['average_price'])\n",
    "    df1[\"average_price\"]=df1[\"average_price\"].fillna(0)\n",
    "    return df1[[\"product_id\",\"average_price\"]]\n"
   ]
  },
  {
   "cell_type": "code",
   "execution_count": null,
   "id": "06d4ad7f",
   "metadata": {},
   "outputs": [],
   "source": [
    "#sql\n",
    "    select a.project_id,\n",
    "    round(avg(b.experience_years),2) as average_years \n",
    "    from project a left join employee b\n",
    "    on a.employee_id=b.employee_id\n",
    "    group by(a.project_id)\n",
    "#Runtime: 968 ms, faster than 68.72% "
   ]
  },
  {
   "cell_type": "code",
   "execution_count": 64,
   "id": "8b1a330b",
   "metadata": {},
   "outputs": [],
   "source": [
    "\n",
    "def project_employees_i(project: pd.DataFrame, employee: pd.DataFrame) -> pd.DataFrame:\n",
    "    df = project.merge(employee,how=\"left\")[[\"project_id\",\"experience_years\"]]\n",
    "    df2 = df.groupby(\"project_id\").agg({\"experience_years\":\"mean\"}).reset_index().rename(columns={\"experience_years\":\"average_years\"})\n",
    "    df2[\"average_years\"]=df2[\"average_years\"].round(2)\n",
    "    return df2\n",
    "#763 ms, faster than 11.82%"
   ]
  },
  {
   "cell_type": "code",
   "execution_count": null,
   "id": "187b5e9a",
   "metadata": {},
   "outputs": [],
   "source": [
    "# Write your MySQL query statement below\n",
    "    select a.contest_id,\n",
    "    round(a.count*100/c.total,2) as percentage\n",
    "    from (select count(*) as count, contest_id from register group by contest_id) a cross join\n",
    "    (select count(user_id) as total from\n",
    "    users) c\n",
    "    order by percentage desc, contest_id\n",
    "#better solution  \n",
    "select contest_id,\n",
    "round(count(distinct user_id)*100/(select count(user_id)from Users),2)as percentage \n",
    "from Register \n",
    " group by contest_id \n",
    " order by percentage desc,contest_id;\n"
   ]
  },
  {
   "cell_type": "code",
   "execution_count": null,
   "id": "27bd4249",
   "metadata": {},
   "outputs": [],
   "source": [
    "\n",
    "def users_percentage(users: pd.DataFrame, register: pd.DataFrame) -> pd.DataFrame:\n",
    "    total=users[\"user_id\"].count()\n",
    "    df = register.groupby(\"contest_id\").count().reset_index()\n",
    "    df[\"percentage\"]=round(df[\"user_id\"]*100/total,2)\n",
    "    return df.sort_values(by=[\"percentage\",\"contest_id\"],ascending=[False,True])\n",
    "#834 ms, faster than 13.56% of\n",
    "def users_percentage(users: pd.DataFrame, register: pd.DataFrame) -> pd.DataFrame:\n",
    "    total=users[\"user_id\"].count()\n",
    "    df = register.groupby(\"contest_id\").count().reset_index()\n",
    "    df[\"percentage\"]=round(df[\"user_id\"]*100/total,2)\n",
    "    return df.sort_values(by=[\"percentage\",\"contest_id\"],ascending=[False,True])[[\"contest_id\",\"percentage\"]]\n",
    "#762\n"
   ]
  }
 ],
 "metadata": {
  "kernelspec": {
   "display_name": "Python 3 (ipykernel)",
   "language": "python",
   "name": "python3"
  },
  "language_info": {
   "codemirror_mode": {
    "name": "ipython",
    "version": 3
   },
   "file_extension": ".py",
   "mimetype": "text/x-python",
   "name": "python",
   "nbconvert_exporter": "python",
   "pygments_lexer": "ipython3",
   "version": "3.9.12"
  }
 },
 "nbformat": 4,
 "nbformat_minor": 5
}
