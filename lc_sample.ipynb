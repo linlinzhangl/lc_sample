{
 "cells": [
  {
   "cell_type": "code",
   "execution_count": 1,
   "id": "4157849e",
   "metadata": {},
   "outputs": [],
   "source": [
    "from scipy import stats\n",
    "import pandas as pd\n",
    "import numpy as np\n",
    "import matplotlib.pyplot as plt\n",
    "import seaborn as sns\n",
    "from sklearn.model_selection import train_test_split\n",
    "import warnings"
   ]
  },
  {
   "cell_type": "code",
   "execution_count": 10,
   "id": "1360a24d",
   "metadata": {},
   "outputs": [],
   "source": [
    "def createDataframe(student_data: List[List[int]]) -> pd.DataFrame:\n",
    "    return pd.DataFrame(student_data,columns=('student_id','age'))\n"
   ]
  },
  {
   "cell_type": "code",
   "execution_count": 15,
   "id": "9a10918c",
   "metadata": {
    "scrolled": true
   },
   "outputs": [
    {
     "ename": "SyntaxError",
     "evalue": "invalid syntax (3225125957.py, line 1)",
     "output_type": "error",
     "traceback": [
      "\u001b[0;36m  Input \u001b[0;32mIn [15]\u001b[0;36m\u001b[0m\n\u001b[0;31m    pd.shape()?\u001b[0m\n\u001b[0m              ^\u001b[0m\n\u001b[0;31mSyntaxError\u001b[0m\u001b[0;31m:\u001b[0m invalid syntax\n"
     ]
    }
   ],
   "source": [
    "\n",
    "def getDataframeSize(players: pd.DataFrame) -> List[int]:\n",
    "    a = len(players)\n",
    "    b = len(players.loc[1])\n",
    "    return [a,b]\n"
   ]
  },
  {
   "cell_type": "code",
   "execution_count": 16,
   "id": "46bb3142",
   "metadata": {},
   "outputs": [],
   "source": [
    "def selectData(students: pd.DataFrame) -> pd.DataFrame:\n",
    "   return students.loc[students.student_id==101,['name','age']]\n",
    "#708ms\n",
    "def selectData(students: pd.DataFrame) -> pd.DataFrame:\n",
    "    df = students[students.student_id==101]\n",
    "    return df[['name','age']]\n",
    "#607ms\n",
    "def selectData(students: pd.DataFrame) -> pd.DataFrame:\n",
    "    return students[students.student_id==101][['name','age']]\n",
    "#527ms\n"
   ]
  },
  {
   "cell_type": "code",
   "execution_count": 17,
   "id": "8a7c08b1",
   "metadata": {},
   "outputs": [],
   "source": [
    "def createBonusColumn(employees: pd.DataFrame) -> pd.DataFrame:\n",
    "    employees['bonus']=2*employees['salary']\n",
    "    return employees\n",
    "#505ms"
   ]
  },
  {
   "cell_type": "code",
   "execution_count": 18,
   "id": "4d902a13",
   "metadata": {},
   "outputs": [],
   "source": [
    "\n",
    "def dropDuplicateEmails(customers: pd.DataFrame) -> pd.DataFrame:\n",
    "    customers['occurrences'] = customers.groupby('email').cumcount() + 1\n",
    "    return customers[customers.occurrences==1][['customer_id','name','email']]\n",
    "#656ms\n",
    "def dropDuplicateEmails(customers: pd.DataFrame) -> pd.DataFrame:\n",
    "    return customers.drop_duplicates(subset=['email'], keep='first')\n",
    "#507ms"
   ]
  },
  {
   "cell_type": "code",
   "execution_count": 19,
   "id": "fc3f07e7",
   "metadata": {},
   "outputs": [],
   "source": [
    "\n",
    "def dropMissingData(students: pd.DataFrame) -> pd.DataFrame:\n",
    "    return students[students['name'].notnull()]\n",
    "#543ms\n",
    "\n",
    "def modifySalaryColumn(employees: pd.DataFrame) -> pd.DataFrame:\n",
    "    employees['salary']*=2\n",
    "    return employees"
   ]
  },
  {
   "cell_type": "code",
   "execution_count": 20,
   "id": "ccda38c7",
   "metadata": {},
   "outputs": [],
   "source": [
    "def renameColumns(students: pd.DataFrame) -> pd.DataFrame:\n",
    "    students=students.rename(columns={'id':'student_id','first':'first_name','last':'last_name','age':'age_in_years'})\n",
    "    return students\n",
    "#553ms"
   ]
  },
  {
   "cell_type": "code",
   "execution_count": 24,
   "id": "4bda0225",
   "metadata": {},
   "outputs": [
    {
     "ename": "SyntaxError",
     "evalue": "invalid syntax (2806183377.py, line 1)",
     "output_type": "error",
     "traceback": [
      "\u001b[0;36m  Input \u001b[0;32mIn [24]\u001b[0;36m\u001b[0m\n\u001b[0;31m    students.astype()?\u001b[0m\n\u001b[0m                     ^\u001b[0m\n\u001b[0;31mSyntaxError\u001b[0m\u001b[0;31m:\u001b[0m invalid syntax\n"
     ]
    }
   ],
   "source": [
    "def changeDatatype(students: pd.DataFrame) -> pd.DataFrame:\n",
    "    students[\"grade\"]=students[\"grade\"].astype(int)\n",
    "    return students\n",
    "#491ms"
   ]
  },
  {
   "cell_type": "code",
   "execution_count": 25,
   "id": "1c9368f0",
   "metadata": {},
   "outputs": [],
   "source": [
    "def fillMissingValues(products: pd.DataFrame) -> pd.DataFrame:\n",
    "     products[\"quantity\"]=products[\"quantity\"].fillna(0)\n",
    "     return products\n",
    "#682ms\n"
   ]
  },
  {
   "cell_type": "code",
   "execution_count": 26,
   "id": "2e14b384",
   "metadata": {},
   "outputs": [],
   "source": [
    "def pivotTable(weather: pd.DataFrame) -> pd.DataFrame:\n",
    "    return weather.pivot_table(index='month', columns='city', values='temperature', aggfunc='sum')\n",
    "#629ms\n"
   ]
  },
  {
   "cell_type": "code",
   "execution_count": 27,
   "id": "ca7064e7",
   "metadata": {},
   "outputs": [
    {
     "data": {
      "text/html": [
       "<div>\n",
       "<style scoped>\n",
       "    .dataframe tbody tr th:only-of-type {\n",
       "        vertical-align: middle;\n",
       "    }\n",
       "\n",
       "    .dataframe tbody tr th {\n",
       "        vertical-align: top;\n",
       "    }\n",
       "\n",
       "    .dataframe thead th {\n",
       "        text-align: right;\n",
       "    }\n",
       "</style>\n",
       "<table border=\"1\" class=\"dataframe\">\n",
       "  <thead>\n",
       "    <tr style=\"text-align: right;\">\n",
       "      <th></th>\n",
       "      <th>Date</th>\n",
       "      <th>Category</th>\n",
       "      <th>Value</th>\n",
       "    </tr>\n",
       "  </thead>\n",
       "  <tbody>\n",
       "    <tr>\n",
       "      <th>0</th>\n",
       "      <td>2022-01-01</td>\n",
       "      <td>A</td>\n",
       "      <td>10</td>\n",
       "    </tr>\n",
       "    <tr>\n",
       "      <th>1</th>\n",
       "      <td>2022-01-01</td>\n",
       "      <td>B</td>\n",
       "      <td>20</td>\n",
       "    </tr>\n",
       "    <tr>\n",
       "      <th>2</th>\n",
       "      <td>2022-01-02</td>\n",
       "      <td>A</td>\n",
       "      <td>30</td>\n",
       "    </tr>\n",
       "    <tr>\n",
       "      <th>3</th>\n",
       "      <td>2022-01-02</td>\n",
       "      <td>B</td>\n",
       "      <td>40</td>\n",
       "    </tr>\n",
       "  </tbody>\n",
       "</table>\n",
       "</div>"
      ],
      "text/plain": [
       "         Date Category  Value\n",
       "0  2022-01-01        A     10\n",
       "1  2022-01-01        B     20\n",
       "2  2022-01-02        A     30\n",
       "3  2022-01-02        B     40"
      ]
     },
     "execution_count": 27,
     "metadata": {},
     "output_type": "execute_result"
    }
   ],
   "source": [
    "data = {'Date': ['2022-01-01', '2022-01-01', '2022-01-02', '2022-01-02'],\n",
    "        'Category': ['A', 'B', 'A', 'B'],\n",
    "        'Value': [10, 20, 30, 40]}\n",
    "df = pd.DataFrame(data)\n",
    "df"
   ]
  },
  {
   "cell_type": "code",
   "execution_count": 28,
   "id": "a04ec748",
   "metadata": {},
   "outputs": [],
   "source": [
    "def meltTable(report: pd.DataFrame) -> pd.DataFrame:\n",
    "    return pd.melt(report, id_vars=['product'], var_name='quarter', value_name='sales')\n",
    "#599ms"
   ]
  },
  {
   "cell_type": "code",
   "execution_count": 29,
   "id": "dd949e4a",
   "metadata": {},
   "outputs": [],
   "source": [
    "def findHeavyAnimals(animals: pd.DataFrame) -> pd.DataFrame:\n",
    "    return animals[animals.weight>100].sort_values(by='weight',ascending=False)[['name']]\n",
    "#606ms"
   ]
  },
  {
   "cell_type": "code",
   "execution_count": 30,
   "id": "db753e0e",
   "metadata": {},
   "outputs": [
    {
     "ename": "SyntaxError",
     "evalue": "invalid syntax (1381232198.py, line 5)",
     "output_type": "error",
     "traceback": [
      "\u001b[0;36m  Input \u001b[0;32mIn [30]\u001b[0;36m\u001b[0m\n\u001b[0;31m    select product_id from Products\u001b[0m\n\u001b[0m           ^\u001b[0m\n\u001b[0;31mSyntaxError\u001b[0m\u001b[0;31m:\u001b[0m invalid syntax\n"
     ]
    }
   ],
   "source": [
    "#sql and python crosscheck\n",
    "def find_products(products: pd.DataFrame) -> pd.DataFrame:\n",
    "    return products[(products.low_fats=='Y') & (products.recyclable=='Y')][['product_id']]\n",
    "# Write your MySQL query statement below\n",
    "select product_id from Products\n",
    "where  low_fats='Y' and recyclable='Y'"
   ]
  },
  {
   "cell_type": "code",
   "execution_count": 31,
   "id": "e0f1ab5c",
   "metadata": {},
   "outputs": [],
   "source": [
    "def find_customer_referee(customer: pd.DataFrame) -> pd.DataFrame:\n",
    "    return customer[((customer.referee_id!=2) | (customer.referee_id.isna()))][['name']]\n",
    "#790ms\n",
    "def find_customer_referee(customer: pd.DataFrame) -> pd.DataFrame:\n",
    "    return customer[(customer['referee_id']!=2) | (customer['referee_id'].isnull())][['name']]\n",
    "#591ms"
   ]
  },
  {
   "cell_type": "code",
   "execution_count": 32,
   "id": "fb37f863",
   "metadata": {},
   "outputs": [],
   "source": [
    "def article_views(views: pd.DataFrame) -> pd.DataFrame:\n",
    "    df = views[(views.author_id==views.viewer_id)][['author_id']].rename(columns={'author_id': 'id'}).sort_values(by='id')\n",
    "    return df.drop_duplicates()\n",
    "\n",
    "#Runtime: 560 ms, faster than 69.95% of Pandas online submissions for Article Views I.\n"
   ]
  },
  {
   "cell_type": "code",
   "execution_count": 33,
   "id": "234f74cf",
   "metadata": {},
   "outputs": [],
   "source": [
    "def replace_employee_id(employees: pd.DataFrame, employee_uni: pd.DataFrame) -> pd.DataFrame:\n",
    "    return pd.merge(employees, employee_uni,on='id',how='left')[['unique_id','name']]\n",
    "#781ms\n",
    "def replace_employee_id(employees: pd.DataFrame, employee_uni: pd.DataFrame) -> pd.DataFrame:\n",
    "    return pd.merge(employees, employee_uni,how=\"left\")[[\"unique_id\",\"name\"]]\n",
    "#596ms"
   ]
  },
  {
   "cell_type": "code",
   "execution_count": null,
   "id": "a2cddbd2",
   "metadata": {},
   "outputs": [],
   "source": [
    "def sales_analysis(sales: pd.DataFrame, product: pd.DataFrame) -> pd.DataFrame:\n",
    "    return pd.merge(sales,product,how=\"left\")[[\"product_name\",\"year\",\"price\"]]\n",
    "#680 ms, faster than 53.42% "
   ]
  }
 ],
 "metadata": {
  "kernelspec": {
   "display_name": "Python 3 (ipykernel)",
   "language": "python",
   "name": "python3"
  },
  "language_info": {
   "codemirror_mode": {
    "name": "ipython",
    "version": 3
   },
   "file_extension": ".py",
   "mimetype": "text/x-python",
   "name": "python",
   "nbconvert_exporter": "python",
   "pygments_lexer": "ipython3",
   "version": "3.9.12"
  }
 },
 "nbformat": 4,
 "nbformat_minor": 5
}
