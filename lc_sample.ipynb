{
 "cells": [
  {
   "cell_type": "code",
   "execution_count": 1,
   "id": "b183d983",
   "metadata": {},
   "outputs": [],
   "source": [
    "from scipy import stats\n",
    "import pandas as pd\n",
    "import numpy as np\n",
    "import matplotlib.pyplot as plt\n",
    "import seaborn as sns\n",
    "from sklearn.model_selection import train_test_split\n",
    "import warnings"
   ]
  },
  {
   "cell_type": "code",
   "execution_count": 10,
   "id": "117de692",
   "metadata": {},
   "outputs": [],
   "source": [
    "def createDataframe(student_data: List[List[int]]) -> pd.DataFrame:\n",
    "    return pd.DataFrame(student_data,columns=('student_id','age'))\n"
   ]
  },
  {
   "cell_type": "code",
   "execution_count": 15,
   "id": "bd65419f",
   "metadata": {
    "scrolled": true
   },
   "outputs": [
    {
     "ename": "SyntaxError",
     "evalue": "invalid syntax (3225125957.py, line 1)",
     "output_type": "error",
     "traceback": [
      "\u001b[0;36m  Input \u001b[0;32mIn [15]\u001b[0;36m\u001b[0m\n\u001b[0;31m    pd.shape()?\u001b[0m\n\u001b[0m              ^\u001b[0m\n\u001b[0;31mSyntaxError\u001b[0m\u001b[0;31m:\u001b[0m invalid syntax\n"
     ]
    }
   ],
   "source": [
    "\n",
    "def getDataframeSize(players: pd.DataFrame) -> List[int]:\n",
    "    a = len(players)\n",
    "    b = len(players.loc[1])\n",
    "    return [a,b]\n"
   ]
  },
  {
   "cell_type": "code",
   "execution_count": 16,
   "id": "79c72f42",
   "metadata": {},
   "outputs": [],
   "source": [
    "def selectData(students: pd.DataFrame) -> pd.DataFrame:\n",
    "   return students.loc[students.student_id==101,['name','age']]\n",
    "#708ms\n",
    "def selectData(students: pd.DataFrame) -> pd.DataFrame:\n",
    "    df = students[students.student_id==101]\n",
    "    return df[['name','age']]\n",
    "#607ms\n",
    "def selectData(students: pd.DataFrame) -> pd.DataFrame:\n",
    "    return students[students.student_id==101][['name','age']]\n",
    "#527ms\n"
   ]
  },
  {
   "cell_type": "code",
   "execution_count": 17,
   "id": "3b91fcbb",
   "metadata": {},
   "outputs": [],
   "source": [
    "def createBonusColumn(employees: pd.DataFrame) -> pd.DataFrame:\n",
    "    employees['bonus']=2*employees['salary']\n",
    "    return employees\n",
    "#505ms"
   ]
  },
  {
   "cell_type": "code",
   "execution_count": 18,
   "id": "915b666d",
   "metadata": {},
   "outputs": [],
   "source": [
    "\n",
    "def dropDuplicateEmails(customers: pd.DataFrame) -> pd.DataFrame:\n",
    "    customers['occurrences'] = customers.groupby('email').cumcount() + 1\n",
    "    return customers[customers.occurrences==1][['customer_id','name','email']]\n",
    "#656ms\n",
    "def dropDuplicateEmails(customers: pd.DataFrame) -> pd.DataFrame:\n",
    "    return customers.drop_duplicates(subset=['email'], keep='first')\n",
    "#507ms"
   ]
  },
  {
   "cell_type": "code",
   "execution_count": 19,
   "id": "386108df",
   "metadata": {},
   "outputs": [],
   "source": [
    "\n",
    "def dropMissingData(students: pd.DataFrame) -> pd.DataFrame:\n",
    "    return students[students['name'].notnull()]\n",
    "#543ms\n",
    "\n",
    "def modifySalaryColumn(employees: pd.DataFrame) -> pd.DataFrame:\n",
    "    employees['salary']*=2\n",
    "    return employees"
   ]
  },
  {
   "cell_type": "code",
   "execution_count": 20,
   "id": "1b8f4792",
   "metadata": {},
   "outputs": [],
   "source": [
    "def renameColumns(students: pd.DataFrame) -> pd.DataFrame:\n",
    "    students=students.rename(columns={'id':'student_id','first':'first_name','last':'last_name','age':'age_in_years'})\n",
    "    return students\n",
    "#553ms"
   ]
  },
  {
   "cell_type": "code",
   "execution_count": 24,
   "id": "42a0aa5d",
   "metadata": {},
   "outputs": [
    {
     "ename": "SyntaxError",
     "evalue": "invalid syntax (2806183377.py, line 1)",
     "output_type": "error",
     "traceback": [
      "\u001b[0;36m  Input \u001b[0;32mIn [24]\u001b[0;36m\u001b[0m\n\u001b[0;31m    students.astype()?\u001b[0m\n\u001b[0m                     ^\u001b[0m\n\u001b[0;31mSyntaxError\u001b[0m\u001b[0;31m:\u001b[0m invalid syntax\n"
     ]
    }
   ],
   "source": [
    "def changeDatatype(students: pd.DataFrame) -> pd.DataFrame:\n",
    "    students[\"grade\"]=students[\"grade\"].astype(int)\n",
    "    return students\n",
    "#491ms"
   ]
  },
  {
   "cell_type": "code",
   "execution_count": 25,
   "id": "13f18874",
   "metadata": {},
   "outputs": [],
   "source": [
    "def fillMissingValues(products: pd.DataFrame) -> pd.DataFrame:\n",
    "     products[\"quantity\"]=products[\"quantity\"].fillna(0)\n",
    "     return products\n",
    "#682ms\n"
   ]
  },
  {
   "cell_type": "code",
   "execution_count": 26,
   "id": "88ef1ffc",
   "metadata": {},
   "outputs": [],
   "source": [
    "def pivotTable(weather: pd.DataFrame) -> pd.DataFrame:\n",
    "    return weather.pivot_table(index='month', columns='city', values='temperature', aggfunc='sum')\n",
    "#629ms\n"
   ]
  },
  {
   "cell_type": "code",
   "execution_count": 27,
   "id": "13601486",
   "metadata": {},
   "outputs": [
    {
     "data": {
      "text/html": [
       "<div>\n",
       "<style scoped>\n",
       "    .dataframe tbody tr th:only-of-type {\n",
       "        vertical-align: middle;\n",
       "    }\n",
       "\n",
       "    .dataframe tbody tr th {\n",
       "        vertical-align: top;\n",
       "    }\n",
       "\n",
       "    .dataframe thead th {\n",
       "        text-align: right;\n",
       "    }\n",
       "</style>\n",
       "<table border=\"1\" class=\"dataframe\">\n",
       "  <thead>\n",
       "    <tr style=\"text-align: right;\">\n",
       "      <th></th>\n",
       "      <th>Date</th>\n",
       "      <th>Category</th>\n",
       "      <th>Value</th>\n",
       "    </tr>\n",
       "  </thead>\n",
       "  <tbody>\n",
       "    <tr>\n",
       "      <th>0</th>\n",
       "      <td>2022-01-01</td>\n",
       "      <td>A</td>\n",
       "      <td>10</td>\n",
       "    </tr>\n",
       "    <tr>\n",
       "      <th>1</th>\n",
       "      <td>2022-01-01</td>\n",
       "      <td>B</td>\n",
       "      <td>20</td>\n",
       "    </tr>\n",
       "    <tr>\n",
       "      <th>2</th>\n",
       "      <td>2022-01-02</td>\n",
       "      <td>A</td>\n",
       "      <td>30</td>\n",
       "    </tr>\n",
       "    <tr>\n",
       "      <th>3</th>\n",
       "      <td>2022-01-02</td>\n",
       "      <td>B</td>\n",
       "      <td>40</td>\n",
       "    </tr>\n",
       "  </tbody>\n",
       "</table>\n",
       "</div>"
      ],
      "text/plain": [
       "         Date Category  Value\n",
       "0  2022-01-01        A     10\n",
       "1  2022-01-01        B     20\n",
       "2  2022-01-02        A     30\n",
       "3  2022-01-02        B     40"
      ]
     },
     "execution_count": 27,
     "metadata": {},
     "output_type": "execute_result"
    }
   ],
   "source": [
    "data = {'Date': ['2022-01-01', '2022-01-01', '2022-01-02', '2022-01-02'],\n",
    "        'Category': ['A', 'B', 'A', 'B'],\n",
    "        'Value': [10, 20, 30, 40]}\n",
    "df = pd.DataFrame(data)\n",
    "df"
   ]
  },
  {
   "cell_type": "code",
   "execution_count": 28,
   "id": "feab4b34",
   "metadata": {},
   "outputs": [],
   "source": [
    "def meltTable(report: pd.DataFrame) -> pd.DataFrame:\n",
    "    return pd.melt(report, id_vars=['product'], var_name='quarter', value_name='sales')\n",
    "#599ms"
   ]
  },
  {
   "cell_type": "code",
   "execution_count": 29,
   "id": "35815d88",
   "metadata": {},
   "outputs": [],
   "source": [
    "def findHeavyAnimals(animals: pd.DataFrame) -> pd.DataFrame:\n",
    "    return animals[animals.weight>100].sort_values(by='weight',ascending=False)[['name']]\n",
    "#606ms"
   ]
  },
  {
   "cell_type": "code",
   "execution_count": 30,
   "id": "1215ee8f",
   "metadata": {},
   "outputs": [
    {
     "ename": "SyntaxError",
     "evalue": "invalid syntax (1381232198.py, line 5)",
     "output_type": "error",
     "traceback": [
      "\u001b[0;36m  Input \u001b[0;32mIn [30]\u001b[0;36m\u001b[0m\n\u001b[0;31m    select product_id from Products\u001b[0m\n\u001b[0m           ^\u001b[0m\n\u001b[0;31mSyntaxError\u001b[0m\u001b[0;31m:\u001b[0m invalid syntax\n"
     ]
    }
   ],
   "source": [
    "#sql and python crosscheck\n",
    "def find_products(products: pd.DataFrame) -> pd.DataFrame:\n",
    "    return products[(products.low_fats=='Y') & (products.recyclable=='Y')][['product_id']]\n",
    "# Write your MySQL query statement below\n",
    "select product_id from Products\n",
    "where  low_fats='Y' and recyclable='Y'"
   ]
  },
  {
   "cell_type": "code",
   "execution_count": 31,
   "id": "2276520a",
   "metadata": {},
   "outputs": [],
   "source": [
    "def find_customer_referee(customer: pd.DataFrame) -> pd.DataFrame:\n",
    "    return customer[((customer.referee_id!=2) | (customer.referee_id.isna()))][['name']]\n",
    "#790ms\n",
    "def find_customer_referee(customer: pd.DataFrame) -> pd.DataFrame:\n",
    "    return customer[(customer['referee_id']!=2) | (customer['referee_id'].isnull())][['name']]\n",
    "#591ms"
   ]
  },
  {
   "cell_type": "code",
   "execution_count": 32,
   "id": "4ee9594a",
   "metadata": {},
   "outputs": [],
   "source": [
    "def article_views(views: pd.DataFrame) -> pd.DataFrame:\n",
    "    df = views[(views.author_id==views.viewer_id)][['author_id']].rename(columns={'author_id': 'id'}).sort_values(by='id')\n",
    "    return df.drop_duplicates()\n",
    "\n",
    "#Runtime: 560 ms, faster than 69.95% of Pandas online submissions for Article Views I.\n"
   ]
  },
  {
   "cell_type": "code",
   "execution_count": 33,
   "id": "d9f11a76",
   "metadata": {},
   "outputs": [],
   "source": [
    "def replace_employee_id(employees: pd.DataFrame, employee_uni: pd.DataFrame) -> pd.DataFrame:\n",
    "    return pd.merge(employees, employee_uni,on='id',how='left')[['unique_id','name']]\n",
    "#781ms\n",
    "def replace_employee_id(employees: pd.DataFrame, employee_uni: pd.DataFrame) -> pd.DataFrame:\n",
    "    return pd.merge(employees, employee_uni,how=\"left\")[[\"unique_id\",\"name\"]]\n",
    "#596ms"
   ]
  },
  {
   "cell_type": "code",
   "execution_count": 34,
   "id": "a98cbae5",
   "metadata": {},
   "outputs": [],
   "source": [
    "def sales_analysis(sales: pd.DataFrame, product: pd.DataFrame) -> pd.DataFrame:\n",
    "    return pd.merge(sales,product,how=\"left\")[[\"product_name\",\"year\",\"price\"]]\n",
    "#680 ms, faster than 53.42% "
   ]
  },
  {
   "cell_type": "code",
   "execution_count": 35,
   "id": "d61ba6cf",
   "metadata": {},
   "outputs": [
    {
     "ename": "IndentationError",
     "evalue": "unexpected indent (3735013282.py, line 8)",
     "output_type": "error",
     "traceback": [
      "\u001b[0;36m  Input \u001b[0;32mIn [35]\u001b[0;36m\u001b[0m\n\u001b[0;31m    return visits_no_transaction.groupby('customer_id')['visit_id'].size().reset_index().rename(columns = {'visit_id':'count_no_trans'})[['customer_id','count_no_trans']]\u001b[0m\n\u001b[0m    ^\u001b[0m\n\u001b[0;31mIndentationError\u001b[0m\u001b[0;31m:\u001b[0m unexpected indent\n"
     ]
    }
   ],
   "source": [
    "def find_customers(visits: pd.DataFrame, transactions: pd.DataFrame) -> pd.DataFrame:\n",
    "    df=pd.merge(visits,transactions,how=\"left\",indicator=True)\n",
    "    return df[(df._merge==\"left_only\")].groupby('customer_id').agg({'visit_id': 'count'}).reset_index().rename(columns={'visit_id': 'count_no_trans'})\n",
    "#813 ms, faster than 35.57%\n",
    "    # first find Visits that were not in transactions\n",
    "f\n",
    "    # then want to group on customer_id and count visits \n",
    "    return visits_no_transaction.groupby('customer_id')['visit_id'].size().reset_index().rename(columns = {'visit_id':'count_no_trans'})[['customer_id','count_no_trans']]\n",
    "\n"
   ]
  },
  {
   "cell_type": "code",
   "execution_count": 36,
   "id": "c3d135ab",
   "metadata": {},
   "outputs": [],
   "source": [
    "def rising_temperature(weather: pd.DataFrame) -> pd.DataFrame:\n",
    "    weather[\"recordDate_1\"]=weather[\"recordDate\"] - pd.Timedelta(days=1)\n",
    "    df = pd.merge(weather,weather,left_on=\"recordDate_1\",right_on=\"recordDate\",how=\"left\")\n",
    "    return df[(df.temperature_x>df.temperature_y)][[\"id_x\"]].rename(columns={\"id_x\":\"id\"})\n",
    "#695 ms, faster than 30.72%\n",
    "def rising_temperature(weather: pd.DataFrame) -> pd.DataFrame:\n",
    "    weather.sort_values(by='recordDate', inplace=True)\n",
    "    print(weather.recordDate.diff())\n",
    "    return weather[(weather.temperature.diff() > 0) & (weather.recordDate.diff().dt.days == 1)][['id']]\n",
    "\n",
    "#Runtime: 504 ms, faster than 92.79% of Pandas online submissions for Rising Temperature."
   ]
  },
  {
   "cell_type": "code",
   "execution_count": 38,
   "id": "87d9fa51",
   "metadata": {},
   "outputs": [
    {
     "ename": "SyntaxError",
     "evalue": "invalid syntax (206789435.py, line 1)",
     "output_type": "error",
     "traceback": [
      "\u001b[0;36m  Input \u001b[0;32mIn [38]\u001b[0;36m\u001b[0m\n\u001b[0;31m    df= DataFrame{\"headers\":{\"Activity\":[\"machine_id\",\"process_id\",\"activity_type\",\"timestamp\"]},\"rows\":{\"Activity\":[[0,1,\"start\",18.891],[1,0,\"end\",81.874],[0,0,\"start\",37.019],[0,1,\"end\",38.098],[1,0,\"start\",25.135],[1,1,\"start\",23.355],[0,0,\"end\",40.222],[1,1,\"end\",90.302]]}}\u001b[0m\n\u001b[0m                 ^\u001b[0m\n\u001b[0;31mSyntaxError\u001b[0m\u001b[0;31m:\u001b[0m invalid syntax\n"
     ]
    }
   ],
   "source": [
    "def get_average_time(activity: pd.DataFrame) -> pd.DataFrame:\n",
    "    df1 = activity[(activity.activity_type=='start')]\n",
    "    df2 = activity[(activity.activity_type=='end')]\n",
    "    df = pd.merge(df1,df2,on=[\"machine_id\",\"process_id\"])\n",
    "    df['processing_time']=df[\"timestamp_y\"]-df[\"timestamp_x\"]\n",
    "    return df.groupby(\"machine_id\")['processing_time'].mean().round(3).reset_index()\n",
    "#621 ms, faster than 40.61% of Pandas online submissions for Average Time of Process per Machine.\n"
   ]
  },
  {
   "cell_type": "code",
   "execution_count": 39,
   "id": "3e7a1ae6",
   "metadata": {},
   "outputs": [],
   "source": [
    "\n",
    "def employee_bonus(employee: pd.DataFrame, bonus: pd.DataFrame) -> pd.DataFrame:\n",
    "    df = pd.merge(employee,bonus,how='left')\n",
    "    return df[(df.bonus<1000)|(df.bonus.isna())][[\"name\",\"bonus\"]]\n",
    "#Runtime: 650 ms, faster than 67.61"
   ]
  },
  {
   "cell_type": "code",
   "execution_count": 40,
   "id": "5e949941",
   "metadata": {},
   "outputs": [
    {
     "data": {
      "text/plain": [
       "B          3\n",
       "A          2\n",
       "Missing    1\n",
       "Name: Group1, dtype: int64"
      ]
     },
     "execution_count": 40,
     "metadata": {},
     "output_type": "execute_result"
    }
   ],
   "source": [
    "df = pd.DataFrame({'Group1': ['A', 'A', 'B', 'B', 'B', pd.NA]})\n",
    "\n",
    "# Count the occurrences of each unique value in 'Group1', including missing values\n",
    "counts = df['Group1'].fillna('Missing').value_counts()\n",
    "\n",
    "counts"
   ]
  },
  {
   "cell_type": "code",
   "execution_count": 41,
   "id": "91debfe5",
   "metadata": {},
   "outputs": [
    {
     "name": "stdout",
     "output_type": "stream",
     "text": [
      "    Group1  count\n",
      "0        B      3\n",
      "1        A      2\n",
      "2  Missing      1\n"
     ]
    }
   ],
   "source": [
    "def students_and_examinations(students: pd.DataFrame, subjects: pd.DataFrame, examinations: pd.DataFrame) -> pd.DataFrame:\n",
    "    students['key'] = 1\n",
    "    subjects['key'] = 1\n",
    "    student_subject=pd.merge(students,subjects,on='key').drop('key', axis=1)\n",
    "    examinations['attended_exams']=1\n",
    "    df = examinations.groupby(['student_id','subject_name']).agg({'attended_exams': 'sum'}).reset_index()\n",
    "    df['attended_exams'].astype(int)\n",
    "    df1=pd.merge(student_subject,df,how=\"outer\")\n",
    "    df1['attended_exams']=df1['attended_exams'].fillna(0)\n",
    "    return df1.sort_values(by=['student_id','subject_name'])[['student_id','student_name','subject_name','attended_exams']]\n",
    "    \n",
    "#809 ms, faster than 28.97%    \n"
   ]
  },
  {
   "cell_type": "code",
   "execution_count": 42,
   "id": "8afbbb5a",
   "metadata": {},
   "outputs": [],
   "source": [
    "def students_and_examinations(students: pd.DataFrame, subjects: pd.DataFrame, examinations: pd.DataFrame) -> pd.DataFrame:\n",
    "    students['key'] = 1\n",
    "    subjects['key'] = 1\n",
    "    student_subject=pd.merge(students,subjects,on='key').drop('key', axis=1)\n",
    "    examinations['attended_exams']=1\n",
    "    df = examinations.groupby(['student_id','subject_name']).agg({'attended_exams': 'sum'}).reset_index()\n",
    "    df['attended_exams'].astype(int)\n",
    "    df1=pd.merge(student_subject,df,how=\"outer\")\n",
    "    df1['attended_exams']=df1['attended_exams'].fillna(0)\n",
    "    return df1.sort_values(by=['student_id','subject_name'])[['student_id','student_name','subject_name','attended_exams']]\n",
    "    \n",
    "\n"
   ]
  },
  {
   "cell_type": "code",
   "execution_count": 43,
   "id": "21a4fc28",
   "metadata": {},
   "outputs": [
    {
     "name": "stdout",
     "output_type": "stream",
     "text": [
      "   student_id     name subject_id subject_name\n",
      "0           1    Alice       Math  Mathematics\n",
      "1           1    Alice    Physics      Physics\n",
      "2           2      Bob       Math  Mathematics\n",
      "3           2      Bob    Physics      Physics\n",
      "4           3  Charlie       Math  Mathematics\n",
      "5           3  Charlie    Physics      Physics\n"
     ]
    }
   ],
   "source": [
    "students = pd.DataFrame({'student_id': [1, 2, 3],\n",
    "                         'name': ['Alice', 'Bob', 'Charlie']})\n",
    "\n",
    "# Create DataFrame for subjects\n",
    "subjects = pd.DataFrame({'subject_id': ['Math', 'Physics'],\n",
    "                         'subject_name': ['Mathematics', 'Physics']})\n",
    "\n",
    "df_students_subjects = students.merge(subjects, how='cross')\n",
    "print(df_students_subjects)"
   ]
  },
  {
   "cell_type": "code",
   "execution_count": 44,
   "id": "80669550",
   "metadata": {},
   "outputs": [],
   "source": [
    "\n",
    "def find_managers(employee: pd.DataFrame) -> pd.DataFrame:\n",
    "    df = employee.groupby(\"managerId\").agg({\"id\":\"count\"}).reset_index()\n",
    "    return employee.merge(df[df.id>=5][[\"managerId\"]],how=\"inner\",left_on=\"id\",right_on=\"managerId\")[[\"name\"]]\n",
    "    \n",
    "#528 ms, faster than 84.68%"
   ]
  },
  {
   "cell_type": "code",
   "execution_count": 45,
   "id": "dc49e0b7",
   "metadata": {},
   "outputs": [],
   "source": [
    "\n",
    "def confirmation_rate(signups: pd.DataFrame, confirmations: pd.DataFrame) -> pd.DataFrame:\n",
    "    confirmations['confirmation_rate'] = numpy.where(confirmations['action'] == 'confirmed', 1, 0)\n",
    "    df = confirmations.groupby(\"user_id\").agg({\"confirmation_rate\":\"mean\"}).round(2).reset_index()\n",
    "    return signups.merge(df,how=\"left\")[[\"user_id\",\"confirmation_rate\"]].fillna(0)\n",
    "    \n",
    "#Runtime: 747 ms, faster than 45.75% "
   ]
  },
  {
   "cell_type": "code",
   "execution_count": 46,
   "id": "4ecb1f04",
   "metadata": {},
   "outputs": [],
   "source": [
    "\n",
    "def not_boring_movies(cinema: pd.DataFrame) -> pd.DataFrame:\n",
    "     return cinema[cinema['id'] % 2 != 0][cinema['description']!='boring' ].sort_values(by='rating',ascending=False)\n",
    "#582 ms, faster than 37.31% of Pandas\n",
    "\n",
    "def not_boring_movies(cinema: pd.DataFrame) -> pd.DataFrame:\n",
    "     return cinema[(cinema['id'] % 2 != 0) & (cinema['description']!='boring' )].sort_values(by='rating',ascending=False)\n",
    "    #497 ms, faster than 80.31% "
   ]
  },
  {
   "cell_type": "code",
   "execution_count": 58,
   "id": "423ad880",
   "metadata": {},
   "outputs": [],
   "source": [
    "data = {\n",
    "    \"headers\": {\n",
    "        \"Prices\": [\"product_id\", \"start_date\", \"end_date\", \"price\"],\n",
    "        \"UnitsSold\": [\"product_id\", \"purchase_date\", \"units\"]\n",
    "    },\n",
    "    \"rows\": {\n",
    "        \"Prices\": [\n",
    "            [1, \"2019-02-17\", \"2019-02-28\", 5],\n",
    "            [1, \"2019-03-01\", \"2019-03-22\", 20],\n",
    "            [2, \"2019-02-01\", \"2019-02-20\", 15],\n",
    "            [2, \"2019-02-21\", \"2019-03-31\", 30],\n",
    "            [3, \"2019-02-21\", \"2019-03-31\", 30]\n",
    "        ],\n",
    "        \"UnitsSold\": [\n",
    "            [1, \"2019-02-25\", 100],\n",
    "            [1, \"2019-03-01\", 15],\n",
    "            [2, \"2019-02-10\", 200],\n",
    "            [2, \"2019-03-22\", 30]\n",
    "        ]\n",
    "    }\n",
    "}\n",
    "\n",
    "# Create DataFrame for Prices\n",
    "prices = pd.DataFrame(data[\"rows\"][\"Prices\"], columns=data[\"headers\"][\"Prices\"])\n",
    "\n",
    "# Create DataFrame for UnitsSold\n",
    "units_sold = pd.DataFrame(data[\"rows\"][\"UnitsSold\"], columns=data[\"headers\"][\"UnitsSold\"])\n"
   ]
  },
  {
   "cell_type": "code",
   "execution_count": 62,
   "id": "b86e5ad8",
   "metadata": {},
   "outputs": [
    {
     "data": {
      "text/html": [
       "<div>\n",
       "<style scoped>\n",
       "    .dataframe tbody tr th:only-of-type {\n",
       "        vertical-align: middle;\n",
       "    }\n",
       "\n",
       "    .dataframe tbody tr th {\n",
       "        vertical-align: top;\n",
       "    }\n",
       "\n",
       "    .dataframe thead th {\n",
       "        text-align: right;\n",
       "    }\n",
       "</style>\n",
       "<table border=\"1\" class=\"dataframe\">\n",
       "  <thead>\n",
       "    <tr style=\"text-align: right;\">\n",
       "      <th></th>\n",
       "      <th>product_id</th>\n",
       "      <th>average_price</th>\n",
       "    </tr>\n",
       "  </thead>\n",
       "  <tbody>\n",
       "    <tr>\n",
       "      <th>0</th>\n",
       "      <td>1</td>\n",
       "      <td>6.96</td>\n",
       "    </tr>\n",
       "    <tr>\n",
       "      <th>1</th>\n",
       "      <td>2</td>\n",
       "      <td>16.96</td>\n",
       "    </tr>\n",
       "    <tr>\n",
       "      <th>2</th>\n",
       "      <td>3</td>\n",
       "      <td>0.00</td>\n",
       "    </tr>\n",
       "  </tbody>\n",
       "</table>\n",
       "</div>"
      ],
      "text/plain": [
       "   product_id  average_price\n",
       "0           1           6.96\n",
       "1           2          16.96\n",
       "2           3           0.00"
      ]
     },
     "execution_count": 62,
     "metadata": {},
     "output_type": "execute_result"
    }
   ],
   "source": [
    "def average_selling_price(prices: pd.DataFrame, units_sold: pd.DataFrame) -> pd.DataFrame:\n",
    "    df = pd.merge(prices,units_sold,how=\"outer\")\n",
    "    df = df[((df.purchase_date>=df.start_date)&(df.purchase_date<=df.end_date))|(df.purchase_date.isna())]\n",
    "    df['total'] = df['price']*df['units']\n",
    "    df1=df.groupby(\"product_id\").agg({\"total\":\"sum\",\"units\":\"sum\"}).reset_index()\n",
    "    df1[\"average_price\"]=(df1[\"total\"]/df1[\"units\"]).round(2)\n",
    "    df1[\"average_price\"].fillna(value=0, inplace=True)\n",
    "    df1[\"average_price\"]=df1[\"average_price\"].fillna(0)\n",
    "    return df1[[\"product_id\",\"average_price\"]]\n",
    "average_selling_price(prices,units_sold)"
   ]
  },
  {
   "cell_type": "code",
   "execution_count": 63,
   "id": "09b67db3",
   "metadata": {},
   "outputs": [],
   "source": [
    "\n",
    "def average_selling_price(prices: pd.DataFrame, units_sold: pd.DataFrame) -> pd.DataFrame:\n",
    "    df = pd.merge(prices,units_sold,how=\"outer\")\n",
    "    df = df[((df.purchase_date>=df.start_date)&(df.purchase_date<=df.end_date))|(df.purchase_date.isna())]\n",
    "    df['total'] = df['price']*df['units']\n",
    "    df1=df.groupby(\"product_id\").agg({\"total\":\"sum\",\"units\":\"sum\"}).reset_index()\n",
    "    df1[\"average_price\"]=(df1[\"total\"]/df1[\"units\"]).round(2)\n",
    "    df1['average_price'] = numpy.where(df1['average_price'].isna(), 0,df1['average_price'])\n",
    "    df1[\"average_price\"]=df1[\"average_price\"].fillna(0)\n",
    "    return df1[[\"product_id\",\"average_price\"]]\n"
   ]
  },
  {
   "cell_type": "code",
   "execution_count": null,
   "id": "f57e13b0",
   "metadata": {},
   "outputs": [],
   "source": [
    "#sql\n",
    "    select a.project_id,\n",
    "    round(avg(b.experience_years),2) as average_years \n",
    "    from project a left join employee b\n",
    "    on a.employee_id=b.employee_id\n",
    "    group by(a.project_id)\n",
    "#Runtime: 968 ms, faster than 68.72% "
   ]
  },
  {
   "cell_type": "code",
   "execution_count": 64,
   "id": "f9ca9ab0",
   "metadata": {},
   "outputs": [],
   "source": [
    "\n",
    "def project_employees_i(project: pd.DataFrame, employee: pd.DataFrame) -> pd.DataFrame:\n",
    "    df = project.merge(employee,how=\"left\")[[\"project_id\",\"experience_years\"]]\n",
    "    df2 = df.groupby(\"project_id\").agg({\"experience_years\":\"mean\"}).reset_index().rename(columns={\"experience_years\":\"average_years\"})\n",
    "    df2[\"average_years\"]=df2[\"average_years\"].round(2)\n",
    "    return df2\n",
    "#763 ms, faster than 11.82%"
   ]
  },
  {
   "cell_type": "code",
   "execution_count": null,
   "id": "08a159f4",
   "metadata": {},
   "outputs": [],
   "source": [
    "# Write your MySQL query statement below\n",
    "    select a.contest_id,\n",
    "    round(a.count*100/c.total,2) as percentage\n",
    "    from (select count(*) as count, contest_id from register group by contest_id) a cross join\n",
    "    (select count(user_id) as total from\n",
    "    users) c\n",
    "    order by percentage desc, contest_id\n",
    "#better solution  \n",
    "select contest_id,\n",
    "round(count(distinct user_id)*100/(select count(user_id)from Users),2)as percentage \n",
    "from Register \n",
    " group by contest_id \n",
    " order by percentage desc,contest_id;\n"
   ]
  },
  {
   "cell_type": "code",
   "execution_count": 65,
   "id": "3cab6228",
   "metadata": {},
   "outputs": [],
   "source": [
    "\n",
    "def users_percentage(users: pd.DataFrame, register: pd.DataFrame) -> pd.DataFrame:\n",
    "    total=users[\"user_id\"].count()\n",
    "    df = register.groupby(\"contest_id\").count().reset_index()\n",
    "    df[\"percentage\"]=round(df[\"user_id\"]*100/total,2)\n",
    "    return df.sort_values(by=[\"percentage\",\"contest_id\"],ascending=[False,True])\n",
    "#834 ms, faster than 13.56% of\n",
    "def users_percentage(users: pd.DataFrame, register: pd.DataFrame) -> pd.DataFrame:\n",
    "    total=users[\"user_id\"].count()\n",
    "    df = register.groupby(\"contest_id\").count().reset_index()\n",
    "    df[\"percentage\"]=round(df[\"user_id\"]*100/total,2)\n",
    "    return df.sort_values(by=[\"percentage\",\"contest_id\"],ascending=[False,True])[[\"contest_id\",\"percentage\"]]\n",
    "#762\n"
   ]
  },
  {
   "cell_type": "code",
   "execution_count": 66,
   "id": "3ba0f94f",
   "metadata": {},
   "outputs": [
    {
     "ename": "SyntaxError",
     "evalue": "invalid syntax (1611520853.py, line 1)",
     "output_type": "error",
     "traceback": [
      "\u001b[0;36m  Input \u001b[0;32mIn [66]\u001b[0;36m\u001b[0m\n\u001b[0;31m    select  query_name,\u001b[0m\n\u001b[0m            ^\u001b[0m\n\u001b[0;31mSyntaxError\u001b[0m\u001b[0;31m:\u001b[0m invalid syntax\n"
     ]
    }
   ],
   "source": [
    "    select  query_name,\n",
    "     round(avg(rating/position),2) as quality,\n",
    "    round(avg(case \n",
    "        WHEN rating < 3 THEN 1\n",
    "        ELSE 0\n",
    "        END  )*100,2) as poor_query_percentage\n",
    "        from queries\n",
    "        where query_name is not null\n",
    "        group by query_name ;\n",
    "#555 ms, faster than 95.84% of MySQL online submissions for Queries Quality and Percentage.\n",
    "\n"
   ]
  },
  {
   "cell_type": "code",
   "execution_count": 67,
   "id": "cb5b6fe1",
   "metadata": {},
   "outputs": [],
   "source": [
    "\n",
    "def queries_stats(queries: pd.DataFrame) -> pd.DataFrame:\n",
    "    queries['quality'] = queries['rating']/queries['position'] + 1e-10\n",
    "    queries['poor_query_percentage'] = queries.apply(lambda x: 100 if x['rating'] < 3 else 0, axis=1)\n",
    "    return queries.groupby([\"query_name\"],as_index=False)[['quality','poor_query_percentage']].mean().round(2)\n",
    "\n"
   ]
  },
  {
   "cell_type": "code",
   "execution_count": 68,
   "id": "92d1918d",
   "metadata": {},
   "outputs": [
    {
     "ename": "IndentationError",
     "evalue": "unexpected indent (3616059259.py, line 2)",
     "output_type": "error",
     "traceback": [
      "\u001b[0;36m  Input \u001b[0;32mIn [68]\u001b[0;36m\u001b[0m\n\u001b[0;31m    select DATE_FORMAT(trans_date, '%Y-%m') as month,\u001b[0m\n\u001b[0m    ^\u001b[0m\n\u001b[0;31mIndentationError\u001b[0m\u001b[0;31m:\u001b[0m unexpected indent\n"
     ]
    }
   ],
   "source": [
    "#sql # Write your MySQL query statement below\n",
    "    select DATE_FORMAT(trans_date, '%Y-%m') as month,\n",
    "    country, count(amount) as trans_count,\n",
    "    sum(case when state='approved' then 1 else 0 end) as approved_count,\n",
    "    sum(amount) as trans_total_amount,\n",
    "     sum(case when state='approved' then amount else 0 end) as approved_total_amount\n",
    "     from transactions\n",
    "     group by month,country\n",
    "        #976 ms, faster than 71.24% "
   ]
  },
  {
   "cell_type": "code",
   "execution_count": 69,
   "id": "23ec5461",
   "metadata": {},
   "outputs": [
    {
     "name": "stdout",
     "output_type": "stream",
     "text": [
      "2022-02-23\n",
      "2022-02-23T12:30:45\n",
      "2022-02-24\n",
      "['2022-02-23' '2022-02-24' '2022-02-25']\n"
     ]
    }
   ],
   "source": [
    "date_time = np.datetime64('2022-02-23')\n",
    "\n",
    "# Print the datetime object\n",
    "print(date_time)\n",
    "\n",
    "# You can also specify the precision\n",
    "date_time_with_precision = np.datetime64('2022-02-23 12:30:45', 's')  # 's' for second precision\n",
    "print(date_time_with_precision)\n",
    "\n",
    "# You can perform arithmetic operations\n",
    "next_day = date_time + np.timedelta64(1, 'D')  # Adding 1 day\n",
    "print(next_day)\n",
    "\n",
    "# You can create an array of dates\n",
    "dates_array = np.array(['2022-02-23', '2022-02-24', '2022-02-25'], dtype='datetime64')\n",
    "print(dates_array)"
   ]
  },
  {
   "cell_type": "code",
   "execution_count": 76,
   "id": "c89bc6d2",
   "metadata": {},
   "outputs": [],
   "source": [
    "\n",
    "def monthly_transactions(transactions: pd.DataFrame) -> pd.DataFrame:\n",
    "    transactions['month'] = transactions['trans_date'].dt.strftime('%Y-%m') \n",
    "    df_app = transactions[transactions.state=='approved'].groupby(['month','country'],dropna=False).agg({'amount':'sum','id':'count'}).rename(columns={'amount':'approved_total_amount','id':'approved_count'}).reset_index()\n",
    "    df = transactions.groupby(['month','country'],dropna=False).agg({'amount':'sum','id':'count'}).rename(columns={'amount':'trans_total_amount','id':'trans_count'}).reset_index()    \n",
    "    df_m = pd.merge(df_app,df,how='outer')[['month','country','trans_count','approved_count','trans_total_amount','approved_total_amount']]\n",
    "    df_m['approved_total_amount'].fillna(0,inplace=True)\n",
    "    df_m['approved_count'].fillna(0,inplace=True)\n",
    "    return df_m\n",
    "#898 ms, faster than 44.58% "
   ]
  },
  {
   "cell_type": "code",
   "execution_count": null,
   "id": "37348884",
   "metadata": {},
   "outputs": [],
   "source": [
    "\n",
    "def immediate_food_delivery(delivery: pd.DataFrame) -> pd.DataFrame:\n",
    "    delivery = delivery.sort_values(by=[\"customer_id\",\"order_date\"])\n",
    "    delivery = delivery.drop_duplicates(subset=\"customer_id\", keep=\"first\")\n",
    "    delivery['immediate_percentage']=numpy.where(delivery['order_date'] == delivery['customer_pref_delivery_date'], 100, 0)\n",
    "    m=round(delivery['immediate_percentage'].mean(),2)\n",
    "    return pd.DataFrame({'immediate_percentage': [m]})\n",
    "\n",
    "#764 ms, faster than 35.83% of Pandas"
   ]
  },
  {
   "cell_type": "code",
   "execution_count": null,
   "id": "17e15685",
   "metadata": {},
   "outputs": [],
   "source": [
    "def immediate_food_delivery(delivery: pd.DataFrame) -> pd.DataFrame:\n",
    "  k=delivery.groupby(['customer_id']).min()\n",
    "  m=k[k['order_date']==k['customer_pref_delivery_date']]\n",
    "  return pd.DataFrame({\"immediate_percentage\":[round(len(m)/len(k)*100,2)]})\n",
    "    \n"
   ]
  }
 ],
 "metadata": {
  "kernelspec": {
   "display_name": "Python 3 (ipykernel)",
   "language": "python",
   "name": "python3"
  },
  "language_info": {
   "codemirror_mode": {
    "name": "ipython",
    "version": 3
   },
   "file_extension": ".py",
   "mimetype": "text/x-python",
   "name": "python",
   "nbconvert_exporter": "python",
   "pygments_lexer": "ipython3",
   "version": "3.9.12"
  }
 },
 "nbformat": 4,
 "nbformat_minor": 5
}
